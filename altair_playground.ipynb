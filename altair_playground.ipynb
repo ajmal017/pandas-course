{
 "cells": [
  {
   "cell_type": "code",
   "execution_count": 2,
   "metadata": {},
   "outputs": [
    {
     "data": {
      "text/plain": [
       "1041"
      ]
     },
     "execution_count": 2,
     "metadata": {},
     "output_type": "execute_result"
    }
   ],
   "source": [
    "import pandas as pd\n",
    "import altair as alt \n",
    "\n",
    "import matplotlib.pyplot as plt\n",
    "import seaborn\n",
    "\n",
    "medals = pd.read_csv('./Video_Lecture_NBs/table1.csv')\n",
    "medals.head()\n",
    "medals.size"
   ]
  },
  {
   "cell_type": "code",
   "execution_count": 3,
   "metadata": {},
   "outputs": [
    {
     "data": {
      "text/html": [
       "<div>\n",
       "<style scoped>\n",
       "    .dataframe tbody tr th:only-of-type {\n",
       "        vertical-align: middle;\n",
       "    }\n",
       "\n",
       "    .dataframe tbody tr th {\n",
       "        vertical-align: top;\n",
       "    }\n",
       "\n",
       "    .dataframe thead th {\n",
       "        text-align: right;\n",
       "    }\n",
       "</style>\n",
       "<table border=\"1\" class=\"dataframe\">\n",
       "  <thead>\n",
       "    <tr style=\"text-align: right;\">\n",
       "      <th></th>\n",
       "      <th>Count</th>\n",
       "    </tr>\n",
       "  </thead>\n",
       "  <tbody>\n",
       "    <tr>\n",
       "      <th>count</th>\n",
       "      <td>347.000000</td>\n",
       "    </tr>\n",
       "    <tr>\n",
       "      <th>mean</th>\n",
       "      <td>89.801153</td>\n",
       "    </tr>\n",
       "    <tr>\n",
       "      <th>std</th>\n",
       "      <td>193.870952</td>\n",
       "    </tr>\n",
       "    <tr>\n",
       "      <th>min</th>\n",
       "      <td>1.000000</td>\n",
       "    </tr>\n",
       "    <tr>\n",
       "      <th>25%</th>\n",
       "      <td>2.000000</td>\n",
       "    </tr>\n",
       "    <tr>\n",
       "      <th>50%</th>\n",
       "      <td>14.000000</td>\n",
       "    </tr>\n",
       "    <tr>\n",
       "      <th>75%</th>\n",
       "      <td>98.500000</td>\n",
       "    </tr>\n",
       "    <tr>\n",
       "      <th>max</th>\n",
       "      <td>2235.000000</td>\n",
       "    </tr>\n",
       "  </tbody>\n",
       "</table>\n",
       "</div>"
      ],
      "text/plain": [
       "             Count\n",
       "count   347.000000\n",
       "mean     89.801153\n",
       "std     193.870952\n",
       "min       1.000000\n",
       "25%       2.000000\n",
       "50%      14.000000\n",
       "75%      98.500000\n",
       "max    2235.000000"
      ]
     },
     "execution_count": 3,
     "metadata": {},
     "output_type": "execute_result"
    }
   ],
   "source": [
    "medals.describe()"
   ]
  },
  {
   "cell_type": "code",
   "execution_count": null,
   "metadata": {},
   "outputs": [],
   "source": []
  },
  {
   "cell_type": "code",
   "execution_count": null,
   "metadata": {},
   "outputs": [],
   "source": []
  },
  {
   "cell_type": "code",
   "execution_count": 4,
   "metadata": {},
   "outputs": [
    {
     "data": {
      "application/vnd.vegalite.v3+json": {
       "$schema": "https://vega.github.io/schema/vega-lite/v3.4.0.json",
       "config": {
        "mark": {
         "tooltip": null
        },
        "view": {
         "height": 300,
         "width": 400
        }
       },
       "data": {
        "name": "data-a273ebff237aa8e61a878dd6cd5095f1"
       },
       "datasets": {
        "data-a273ebff237aa8e61a878dd6cd5095f1": [
         {
          "Count": 2,
          "Country": "AFG",
          "Medal": "Bronze"
         },
         {
          "Count": 1,
          "Country": "AHO",
          "Medal": "Silver"
         },
         {
          "Count": 8,
          "Country": "ALG",
          "Medal": "Bronze"
         },
         {
          "Count": 5,
          "Country": "ALG",
          "Medal": "Gold"
         },
         {
          "Count": 2,
          "Country": "ALG",
          "Medal": "Silver"
         },
         {
          "Count": 5,
          "Country": "ANZ",
          "Medal": "Bronze"
         },
         {
          "Count": 20,
          "Country": "ANZ",
          "Medal": "Gold"
         },
         {
          "Count": 4,
          "Country": "ANZ",
          "Medal": "Silver"
         },
         {
          "Count": 91,
          "Country": "ARG",
          "Medal": "Bronze"
         },
         {
          "Count": 69,
          "Country": "ARG",
          "Medal": "Gold"
         },
         {
          "Count": 99,
          "Country": "ARG",
          "Medal": "Silver"
         },
         {
          "Count": 8,
          "Country": "ARM",
          "Medal": "Bronze"
         },
         {
          "Count": 1,
          "Country": "ARM",
          "Medal": "Gold"
         },
         {
          "Count": 2,
          "Country": "ARM",
          "Medal": "Silver"
         },
         {
          "Count": 472,
          "Country": "AUS",
          "Medal": "Bronze"
         },
         {
          "Count": 312,
          "Country": "AUS",
          "Medal": "Gold"
         },
         {
          "Count": 405,
          "Country": "AUS",
          "Medal": "Silver"
         },
         {
          "Count": 44,
          "Country": "AUT",
          "Medal": "Bronze"
         },
         {
          "Count": 21,
          "Country": "AUT",
          "Medal": "Gold"
         },
         {
          "Count": 81,
          "Country": "AUT",
          "Medal": "Silver"
         },
         {
          "Count": 15,
          "Country": "AZE",
          "Medal": "Bronze"
         },
         {
          "Count": 6,
          "Country": "AZE",
          "Medal": "Gold"
         },
         {
          "Count": 5,
          "Country": "AZE",
          "Medal": "Silver"
         },
         {
          "Count": 5,
          "Country": "BAH",
          "Medal": "Bronze"
         },
         {
          "Count": 13,
          "Country": "BAH",
          "Medal": "Gold"
         },
         {
          "Count": 9,
          "Country": "BAH",
          "Medal": "Silver"
         },
         {
          "Count": 1,
          "Country": "BAR",
          "Medal": "Bronze"
         },
         {
          "Count": 1,
          "Country": "BDI",
          "Medal": "Gold"
         },
         {
          "Count": 152,
          "Country": "BEL",
          "Medal": "Bronze"
         },
         {
          "Count": 91,
          "Country": "BEL",
          "Medal": "Gold"
         },
         {
          "Count": 168,
          "Country": "BEL",
          "Medal": "Silver"
         },
         {
          "Count": 1,
          "Country": "BER",
          "Medal": "Bronze"
         },
         {
          "Count": 59,
          "Country": "BLR",
          "Medal": "Bronze"
         },
         {
          "Count": 17,
          "Country": "BLR",
          "Medal": "Gold"
         },
         {
          "Count": 37,
          "Country": "BLR",
          "Medal": "Silver"
         },
         {
          "Count": 6,
          "Country": "BOH",
          "Medal": "Bronze"
         },
         {
          "Count": 1,
          "Country": "BOH",
          "Medal": "Silver"
         },
         {
          "Count": 1,
          "Country": "BOT",
          "Medal": "Silver"
         },
         {
          "Count": 185,
          "Country": "BRA",
          "Medal": "Bronze"
         },
         {
          "Count": 73,
          "Country": "BRA",
          "Medal": "Gold"
         },
         {
          "Count": 173,
          "Country": "BRA",
          "Medal": "Silver"
         },
         {
          "Count": 1,
          "Country": "BRN",
          "Medal": "Bronze"
         },
         {
          "Count": 137,
          "Country": "BUL",
          "Medal": "Bronze"
         },
         {
          "Count": 53,
          "Country": "BUL",
          "Medal": "Gold"
         },
         {
          "Count": 143,
          "Country": "BUL",
          "Medal": "Silver"
         },
         {
          "Count": 5,
          "Country": "BWI",
          "Medal": "Bronze"
         },
         {
          "Count": 262,
          "Country": "CAN",
          "Medal": "Bronze"
         },
         {
          "Count": 155,
          "Country": "CAN",
          "Medal": "Gold"
         },
         {
          "Count": 232,
          "Country": "CAN",
          "Medal": "Silver"
         },
         {
          "Count": 21,
          "Country": "CHI",
          "Medal": "Bronze"
         },
         {
          "Count": 3,
          "Country": "CHI",
          "Medal": "Gold"
         },
         {
          "Count": 9,
          "Country": "CHI",
          "Medal": "Silver"
         },
         {
          "Count": 221,
          "Country": "CHN",
          "Medal": "Bronze"
         },
         {
          "Count": 290,
          "Country": "CHN",
          "Medal": "Gold"
         },
         {
          "Count": 296,
          "Country": "CHN",
          "Medal": "Silver"
         },
         {
          "Count": 1,
          "Country": "CIV",
          "Medal": "Silver"
         },
         {
          "Count": 2,
          "Country": "CMR",
          "Medal": "Bronze"
         },
         {
          "Count": 20,
          "Country": "CMR",
          "Medal": "Gold"
         },
         {
          "Count": 1,
          "Country": "CMR",
          "Medal": "Silver"
         },
         {
          "Count": 11,
          "Country": "COL",
          "Medal": "Bronze"
         },
         {
          "Count": 2,
          "Country": "COL",
          "Medal": "Gold"
         },
         {
          "Count": 6,
          "Country": "COL",
          "Medal": "Silver"
         },
         {
          "Count": 2,
          "Country": "CRC",
          "Medal": "Bronze"
         },
         {
          "Count": 1,
          "Country": "CRC",
          "Medal": "Gold"
         },
         {
          "Count": 1,
          "Country": "CRC",
          "Medal": "Silver"
         },
         {
          "Count": 34,
          "Country": "CRO",
          "Medal": "Bronze"
         },
         {
          "Count": 46,
          "Country": "CRO",
          "Medal": "Gold"
         },
         {
          "Count": 34,
          "Country": "CRO",
          "Medal": "Silver"
         },
         {
          "Count": 116,
          "Country": "CUB",
          "Medal": "Bronze"
         },
         {
          "Count": 165,
          "Country": "CUB",
          "Medal": "Gold"
         },
         {
          "Count": 129,
          "Country": "CUB",
          "Medal": "Silver"
         },
         {
          "Count": 1,
          "Country": "CYP",
          "Medal": "Silver"
         },
         {
          "Count": 20,
          "Country": "CZE",
          "Medal": "Bronze"
         },
         {
          "Count": 14,
          "Country": "CZE",
          "Medal": "Gold"
         },
         {
          "Count": 22,
          "Country": "CZE",
          "Medal": "Silver"
         },
         {
          "Count": 160,
          "Country": "DEN",
          "Medal": "Bronze"
         },
         {
          "Count": 150,
          "Country": "DEN",
          "Medal": "Gold"
         },
         {
          "Count": 197,
          "Country": "DEN",
          "Medal": "Silver"
         },
         {
          "Count": 1,
          "Country": "DJI",
          "Medal": "Bronze"
         },
         {
          "Count": 1,
          "Country": "DOM",
          "Medal": "Bronze"
         },
         {
          "Count": 3,
          "Country": "DOM",
          "Medal": "Gold"
         },
         {
          "Count": 2,
          "Country": "DOM",
          "Medal": "Silver"
         },
         {
          "Count": 1,
          "Country": "ECU",
          "Medal": "Gold"
         },
         {
          "Count": 1,
          "Country": "ECU",
          "Medal": "Silver"
         },
         {
          "Count": 11,
          "Country": "EGY",
          "Medal": "Bronze"
         },
         {
          "Count": 7,
          "Country": "EGY",
          "Medal": "Gold"
         },
         {
          "Count": 10,
          "Country": "EGY",
          "Medal": "Silver"
         },
         {
          "Count": 1,
          "Country": "ERI",
          "Medal": "Bronze"
         },
         {
          "Count": 117,
          "Country": "ESP",
          "Medal": "Bronze"
         },
         {
          "Count": 98,
          "Country": "ESP",
          "Medal": "Gold"
         },
         {
          "Count": 227,
          "Country": "ESP",
          "Medal": "Silver"
         },
         {
          "Count": 20,
          "Country": "EST",
          "Medal": "Bronze"
         },
         {
          "Count": 9,
          "Country": "EST",
          "Medal": "Gold"
         },
         {
          "Count": 10,
          "Country": "EST",
          "Medal": "Silver"
         },
         {
          "Count": 16,
          "Country": "ETH",
          "Medal": "Bronze"
         },
         {
          "Count": 21,
          "Country": "ETH",
          "Medal": "Gold"
         },
         {
          "Count": 8,
          "Country": "ETH",
          "Medal": "Silver"
         },
         {
          "Count": 92,
          "Country": "EUA",
          "Medal": "Bronze"
         },
         {
          "Count": 68,
          "Country": "EUA",
          "Medal": "Gold"
         },
         {
          "Count": 100,
          "Country": "EUA",
          "Medal": "Silver"
         },
         {
          "Count": 66,
          "Country": "EUN",
          "Medal": "Bronze"
         },
         {
          "Count": 92,
          "Country": "EUN",
          "Medal": "Gold"
         },
         {
          "Count": 65,
          "Country": "EUN",
          "Medal": "Silver"
         },
         {
          "Count": 212,
          "Country": "FIN",
          "Medal": "Bronze"
         },
         {
          "Count": 124,
          "Country": "FIN",
          "Medal": "Gold"
         },
         {
          "Count": 120,
          "Country": "FIN",
          "Medal": "Silver"
         },
         {
          "Count": 497,
          "Country": "FRA",
          "Medal": "Bronze"
         },
         {
          "Count": 408,
          "Country": "FRA",
          "Medal": "Gold"
         },
         {
          "Count": 491,
          "Country": "FRA",
          "Medal": "Silver"
         },
         {
          "Count": 180,
          "Country": "FRG",
          "Medal": "Bronze"
         },
         {
          "Count": 143,
          "Country": "FRG",
          "Medal": "Gold"
         },
         {
          "Count": 167,
          "Country": "FRG",
          "Medal": "Silver"
         },
         {
          "Count": 1,
          "Country": "GAB",
          "Medal": "Silver"
         },
         {
          "Count": 553,
          "Country": "GBR",
          "Medal": "Bronze"
         },
         {
          "Count": 546,
          "Country": "GBR",
          "Medal": "Gold"
         },
         {
          "Count": 621,
          "Country": "GBR",
          "Medal": "Silver"
         },
         {
          "Count": 225,
          "Country": "GDR",
          "Medal": "Bronze"
         },
         {
          "Count": 329,
          "Country": "GDR",
          "Medal": "Gold"
         },
         {
          "Count": 271,
          "Country": "GDR",
          "Medal": "Silver"
         },
         {
          "Count": 14,
          "Country": "GEO",
          "Medal": "Bronze"
         },
         {
          "Count": 6,
          "Country": "GEO",
          "Medal": "Gold"
         },
         {
          "Count": 5,
          "Country": "GEO",
          "Medal": "Silver"
         },
         {
          "Count": 475,
          "Country": "GER",
          "Medal": "Bronze"
         },
         {
          "Count": 452,
          "Country": "GER",
          "Medal": "Gold"
         },
         {
          "Count": 378,
          "Country": "GER",
          "Medal": "Silver"
         },
         {
          "Count": 15,
          "Country": "GHA",
          "Medal": "Bronze"
         },
         {
          "Count": 1,
          "Country": "GHA",
          "Medal": "Silver"
         },
         {
          "Count": 52,
          "Country": "GRE",
          "Medal": "Bronze"
         },
         {
          "Count": 34,
          "Country": "GRE",
          "Medal": "Gold"
         },
         {
          "Count": 62,
          "Country": "GRE",
          "Medal": "Silver"
         },
         {
          "Count": 1,
          "Country": "GRN",
          "Medal": "Gold"
         },
         {
          "Count": 1,
          "Country": "GUA",
          "Medal": "Silver"
         },
         {
          "Count": 1,
          "Country": "GUY",
          "Medal": "Bronze"
         },
         {
          "Count": 7,
          "Country": "HAI",
          "Medal": "Bronze"
         },
         {
          "Count": 1,
          "Country": "HAI",
          "Medal": "Silver"
         },
         {
          "Count": 1,
          "Country": "HKG",
          "Medal": "Bronze"
         },
         {
          "Count": 1,
          "Country": "HKG",
          "Medal": "Gold"
         },
         {
          "Count": 2,
          "Country": "HKG",
          "Medal": "Silver"
         },
         {
          "Count": 351,
          "Country": "HUN",
          "Medal": "Bronze"
         },
         {
          "Count": 412,
          "Country": "HUN",
          "Medal": "Gold"
         },
         {
          "Count": 316,
          "Country": "HUN",
          "Medal": "Silver"
         },
         {
          "Count": 13,
          "Country": "INA",
          "Medal": "Bronze"
         },
         {
          "Count": 9,
          "Country": "INA",
          "Medal": "Gold"
         },
         {
          "Count": 16,
          "Country": "INA",
          "Medal": "Silver"
         },
         {
          "Count": 38,
          "Country": "IND",
          "Medal": "Bronze"
         },
         {
          "Count": 128,
          "Country": "IND",
          "Medal": "Gold"
         },
         {
          "Count": 18,
          "Country": "IND",
          "Medal": "Silver"
         },
         {
          "Count": 2,
          "Country": "IOP",
          "Medal": "Bronze"
         },
         {
          "Count": 1,
          "Country": "IOP",
          "Medal": "Silver"
         },
         {
          "Count": 24,
          "Country": "IRI",
          "Medal": "Bronze"
         },
         {
          "Count": 16,
          "Country": "IRI",
          "Medal": "Gold"
         },
         {
          "Count": 21,
          "Country": "IRI",
          "Medal": "Silver"
         },
         {
          "Count": 12,
          "Country": "IRL",
          "Medal": "Bronze"
         },
         {
          "Count": 9,
          "Country": "IRL",
          "Medal": "Gold"
         },
         {
          "Count": 9,
          "Country": "IRL",
          "Medal": "Silver"
         },
         {
          "Count": 1,
          "Country": "IRQ",
          "Medal": "Bronze"
         },
         {
          "Count": 2,
          "Country": "ISL",
          "Medal": "Bronze"
         },
         {
          "Count": 15,
          "Country": "ISL",
          "Medal": "Silver"
         },
         {
          "Count": 5,
          "Country": "ISR",
          "Medal": "Bronze"
         },
         {
          "Count": 1,
          "Country": "ISR",
          "Medal": "Gold"
         },
         {
          "Count": 1,
          "Country": "ISR",
          "Medal": "Silver"
         },
         {
          "Count": 1,
          "Country": "ISV",
          "Medal": "Silver"
         },
         {
          "Count": 404,
          "Country": "ITA",
          "Medal": "Bronze"
         },
         {
          "Count": 476,
          "Country": "ITA",
          "Medal": "Gold"
         },
         {
          "Count": 416,
          "Country": "ITA",
          "Medal": "Silver"
         },
         {
          "Count": 47,
          "Country": "JAM",
          "Medal": "Bronze"
         },
         {
          "Count": 31,
          "Country": "JAM",
          "Medal": "Gold"
         },
         {
          "Count": 49,
          "Country": "JAM",
          "Medal": "Silver"
         },
         {
          "Count": 303,
          "Country": "JPN",
          "Medal": "Bronze"
         },
         {
          "Count": 213,
          "Country": "JPN",
          "Medal": "Gold"
         },
         {
          "Count": 272,
          "Country": "JPN",
          "Medal": "Silver"
         },
         {
          "Count": 20,
          "Country": "KAZ",
          "Medal": "Bronze"
         },
         {
          "Count": 12,
          "Country": "KAZ",
          "Medal": "Gold"
         },
         {
          "Count": 17,
          "Country": "KAZ",
          "Medal": "Silver"
         },
         {
          "Count": 30,
          "Country": "KEN",
          "Medal": "Bronze"
         },
         {
          "Count": 28,
          "Country": "KEN",
          "Medal": "Gold"
         },
         {
          "Count": 35,
          "Country": "KEN",
          "Medal": "Silver"
         },
         {
          "Count": 2,
          "Country": "KGZ",
          "Medal": "Bronze"
         },
         {
          "Count": 1,
          "Country": "KGZ",
          "Medal": "Silver"
         },
         {
          "Count": 167,
          "Country": "KOR",
          "Medal": "Bronze"
         },
         {
          "Count": 158,
          "Country": "KOR",
          "Medal": "Gold"
         },
         {
          "Count": 204,
          "Country": "KOR",
          "Medal": "Silver"
         },
         {
          "Count": 5,
          "Country": "KSA",
          "Medal": "Bronze"
         },
         {
          "Count": 1,
          "Country": "KSA",
          "Medal": "Silver"
         },
         {
          "Count": 2,
          "Country": "KUW",
          "Medal": "Bronze"
         },
         {
          "Count": 6,
          "Country": "LAT",
          "Medal": "Bronze"
         },
         {
          "Count": 3,
          "Country": "LAT",
          "Medal": "Gold"
         },
         {
          "Count": 11,
          "Country": "LAT",
          "Medal": "Silver"
         },
         {
          "Count": 2,
          "Country": "LIB",
          "Medal": "Bronze"
         },
         {
          "Count": 2,
          "Country": "LIB",
          "Medal": "Silver"
         },
         {
          "Count": 44,
          "Country": "LTU",
          "Medal": "Bronze"
         },
         {
          "Count": 6,
          "Country": "LTU",
          "Medal": "Gold"
         },
         {
          "Count": 5,
          "Country": "LTU",
          "Medal": "Silver"
         },
         {
          "Count": 1,
          "Country": "LUX",
          "Medal": "Gold"
         },
         {
          "Count": 1,
          "Country": "LUX",
          "Medal": "Silver"
         },
         {
          "Count": 11,
          "Country": "MAR",
          "Medal": "Bronze"
         },
         {
          "Count": 6,
          "Country": "MAR",
          "Medal": "Gold"
         },
         {
          "Count": 5,
          "Country": "MAR",
          "Medal": "Silver"
         },
         {
          "Count": 4,
          "Country": "MAS",
          "Medal": "Bronze"
         },
         {
          "Count": 4,
          "Country": "MAS",
          "Medal": "Silver"
         },
         {
          "Count": 3,
          "Country": "MDA",
          "Medal": "Bronze"
         },
         {
          "Count": 3,
          "Country": "MDA",
          "Medal": "Silver"
         },
         {
          "Count": 51,
          "Country": "MEX",
          "Medal": "Bronze"
         },
         {
          "Count": 32,
          "Country": "MEX",
          "Medal": "Gold"
         },
         {
          "Count": 23,
          "Country": "MEX",
          "Medal": "Silver"
         },
         {
          "Count": 13,
          "Country": "MGL",
          "Medal": "Bronze"
         },
         {
          "Count": 2,
          "Country": "MGL",
          "Medal": "Gold"
         },
         {
          "Count": 9,
          "Country": "MGL",
          "Medal": "Silver"
         },
         {
          "Count": 1,
          "Country": "MKD",
          "Medal": "Bronze"
         },
         {
          "Count": 14,
          "Country": "MNE",
          "Medal": "Silver"
         },
         {
          "Count": 1,
          "Country": "MOZ",
          "Medal": "Bronze"
         },
         {
          "Count": 1,
          "Country": "MOZ",
          "Medal": "Gold"
         },
         {
          "Count": 1,
          "Country": "MRI",
          "Medal": "Bronze"
         },
         {
          "Count": 4,
          "Country": "NAM",
          "Medal": "Silver"
         },
         {
          "Count": 339,
          "Country": "NED",
          "Medal": "Bronze"
         },
         {
          "Count": 233,
          "Country": "NED",
          "Medal": "Gold"
         },
         {
          "Count": 279,
          "Country": "NED",
          "Medal": "Silver"
         },
         {
          "Count": 27,
          "Country": "NGR",
          "Medal": "Bronze"
         },
         {
          "Count": 19,
          "Country": "NGR",
          "Medal": "Gold"
         },
         {
          "Count": 38,
          "Country": "NGR",
          "Medal": "Silver"
         },
         {
          "Count": 1,
          "Country": "NIG",
          "Medal": "Bronze"
         },
         {
          "Count": 145,
          "Country": "NOR",
          "Medal": "Bronze"
         },
         {
          "Count": 209,
          "Country": "NOR",
          "Medal": "Gold"
         },
         {
          "Count": 200,
          "Country": "NOR",
          "Medal": "Silver"
         },
         {
          "Count": 75,
          "Country": "NZL",
          "Medal": "Bronze"
         },
         {
          "Count": 85,
          "Country": "NZL",
          "Medal": "Gold"
         },
         {
          "Count": 30,
          "Country": "NZL",
          "Medal": "Silver"
         },
         {
          "Count": 34,
          "Country": "PAK",
          "Medal": "Bronze"
         },
         {
          "Count": 42,
          "Country": "PAK",
          "Medal": "Gold"
         },
         {
          "Count": 45,
          "Country": "PAK",
          "Medal": "Silver"
         },
         {
          "Count": 2,
          "Country": "PAN",
          "Medal": "Bronze"
         },
         {
          "Count": 1,
          "Country": "PAN",
          "Medal": "Gold"
         },
         {
          "Count": 17,
          "Country": "PAR",
          "Medal": "Silver"
         },
         {
          "Count": 1,
          "Country": "PER",
          "Medal": "Gold"
         },
         {
          "Count": 14,
          "Country": "PER",
          "Medal": "Silver"
         },
         {
          "Count": 7,
          "Country": "PHI",
          "Medal": "Bronze"
         },
         {
          "Count": 2,
          "Country": "PHI",
          "Medal": "Silver"
         },
         {
          "Count": 231,
          "Country": "POL",
          "Medal": "Bronze"
         },
         {
          "Count": 106,
          "Country": "POL",
          "Medal": "Gold"
         },
         {
          "Count": 174,
          "Country": "POL",
          "Medal": "Silver"
         },
         {
          "Count": 18,
          "Country": "POR",
          "Medal": "Bronze"
         },
         {
          "Count": 4,
          "Country": "POR",
          "Medal": "Gold"
         },
         {
          "Count": 11,
          "Country": "POR",
          "Medal": "Silver"
         },
         {
          "Count": 32,
          "Country": "PRK",
          "Medal": "Bronze"
         },
         {
          "Count": 14,
          "Country": "PRK",
          "Medal": "Gold"
         },
         {
          "Count": 12,
          "Country": "PRK",
          "Medal": "Silver"
         },
         {
          "Count": 6,
          "Country": "PUR",
          "Medal": "Bronze"
         },
         {
          "Count": 2,
          "Country": "PUR",
          "Medal": "Silver"
         },
         {
          "Count": 4,
          "Country": "QAT",
          "Medal": "Bronze"
         },
         {
          "Count": 288,
          "Country": "ROU",
          "Medal": "Bronze"
         },
         {
          "Count": 157,
          "Country": "ROU",
          "Medal": "Gold"
         },
         {
          "Count": 195,
          "Country": "ROU",
          "Medal": "Silver"
         },
         {
          "Count": 37,
          "Country": "RSA",
          "Medal": "Bronze"
         },
         {
          "Count": 30,
          "Country": "RSA",
          "Medal": "Gold"
         },
         {
          "Count": 39,
          "Country": "RSA",
          "Medal": "Silver"
         },
         {
          "Count": 9,
          "Country": "RU1",
          "Medal": "Bronze"
         },
         {
          "Count": 1,
          "Country": "RU1",
          "Medal": "Gold"
         },
         {
          "Count": 7,
          "Country": "RU1",
          "Medal": "Silver"
         },
         {
          "Count": 291,
          "Country": "RUS",
          "Medal": "Bronze"
         },
         {
          "Count": 239,
          "Country": "RUS",
          "Medal": "Gold"
         },
         {
          "Count": 238,
          "Country": "RUS",
          "Medal": "Silver"
         },
         {
          "Count": 14,
          "Country": "SCG",
          "Medal": "Silver"
         },
         {
          "Count": 1,
          "Country": "SEN",
          "Medal": "Silver"
         },
         {
          "Count": 4,
          "Country": "SGP",
          "Medal": "Bronze"
         },
         {
          "Count": 4,
          "Country": "SIN",
          "Medal": "Silver"
         },
         {
          "Count": 14,
          "Country": "SLO",
          "Medal": "Bronze"
         },
         {
          "Count": 5,
          "Country": "SLO",
          "Medal": "Gold"
         },
         {
          "Count": 7,
          "Country": "SLO",
          "Medal": "Silver"
         },
         {
          "Count": 28,
          "Country": "SRB",
          "Medal": "Bronze"
         },
         {
          "Count": 1,
          "Country": "SRB",
          "Medal": "Gold"
         },
         {
          "Count": 2,
          "Country": "SRB",
          "Medal": "Silver"
         },
         {
          "Count": 2,
          "Country": "SRI",
          "Medal": "Silver"
         },
         {
          "Count": 1,
          "Country": "SUD",
          "Medal": "Silver"
         },
         {
          "Count": 138,
          "Country": "SUI",
          "Medal": "Bronze"
         },
         {
          "Count": 75,
          "Country": "SUI",
          "Medal": "Gold"
         },
         {
          "Count": 167,
          "Country": "SUI",
          "Medal": "Silver"
         },
         {
          "Count": 1,
          "Country": "SUR",
          "Medal": "Bronze"
         },
         {
          "Count": 1,
          "Country": "SUR",
          "Medal": "Gold"
         },
         {
          "Count": 12,
          "Country": "SVK",
          "Medal": "Bronze"
         },
         {
          "Count": 10,
          "Country": "SVK",
          "Medal": "Gold"
         },
         {
          "Count": 12,
          "Country": "SVK",
          "Medal": "Silver"
         },
         {
          "Count": 328,
          "Country": "SWE",
          "Medal": "Bronze"
         },
         {
          "Count": 349,
          "Country": "SWE",
          "Medal": "Gold"
         },
         {
          "Count": 367,
          "Country": "SWE",
          "Medal": "Silver"
         },
         {
          "Count": 1,
          "Country": "SYR",
          "Medal": "Bronze"
         },
         {
          "Count": 1,
          "Country": "SYR",
          "Medal": "Gold"
         },
         {
          "Count": 1,
          "Country": "SYR",
          "Medal": "Silver"
         },
         {
          "Count": 2,
          "Country": "TAN",
          "Medal": "Silver"
         },
         {
          "Count": 105,
          "Country": "TCH",
          "Medal": "Bronze"
         },
         {
          "Count": 80,
          "Country": "TCH",
          "Medal": "Gold"
         },
         {
          "Count": 144,
          "Country": "TCH",
          "Medal": "Silver"
         },
         {
          "Count": 1,
          "Country": "TGA",
          "Medal": "Silver"
         },
         {
          "Count": 12,
          "Country": "THA",
          "Medal": "Bronze"
         },
         {
          "Count": 7,
          "Country": "THA",
          "Medal": "Gold"
         },
         {
          "Count": 6,
          "Country": "THA",
          "Medal": "Silver"
         },
         {
          "Count": 2,
          "Country": "TJK",
          "Medal": "Bronze"
         },
         {
          "Count": 1,
          "Country": "TJK",
          "Medal": "Silver"
         },
         {
          "Count": 1,
          "Country": "TOG",
          "Medal": "Bronze"
         },
         {
          "Count": 14,
          "Country": "TPE",
          "Medal": "Bronze"
         },
         {
          "Count": 3,
          "Country": "TPE",
          "Medal": "Gold"
         },
         {
          "Count": 27,
          "Country": "TPE",
          "Medal": "Silver"
         },
         {
          "Count": 11,
          "Country": "TRI",
          "Medal": "Bronze"
         },
         {
          "Count": 1,
          "Country": "TRI",
          "Medal": "Gold"
         },
         {
          "Count": 8,
          "Country": "TRI",
          "Medal": "Silver"
         },
         {
          "Count": 5,
          "Country": "TTO",
          "Medal": "Bronze"
         },
         {
          "Count": 1,
          "Country": "TTO",
          "Medal": "Gold"
         },
         {
          "Count": 4,
          "Country": "TTO",
          "Medal": "Silver"
         },
         {
          "Count": 4,
          "Country": "TUN",
          "Medal": "Bronze"
         },
         {
          "Count": 4,
          "Country": "TUN",
          "Medal": "Gold"
         },
         {
          "Count": 2,
          "Country": "TUN",
          "Medal": "Silver"
         },
         {
          "Count": 23,
          "Country": "TUR",
          "Medal": "Bronze"
         },
         {
          "Count": 38,
          "Country": "TUR",
          "Medal": "Gold"
         },
         {
          "Count": 25,
          "Country": "TUR",
          "Medal": "Silver"
         },
         {
          "Count": 1,
          "Country": "UAE",
          "Medal": "Gold"
         },
         {
          "Count": 2,
          "Country": "UGA",
          "Medal": "Bronze"
         },
         {
          "Count": 2,
          "Country": "UGA",
          "Medal": "Gold"
         },
         {
          "Count": 3,
          "Country": "UGA",
          "Medal": "Silver"
         },
         {
          "Count": 90,
          "Country": "UKR",
          "Medal": "Bronze"
         },
         {
          "Count": 41,
          "Country": "UKR",
          "Medal": "Gold"
         },
         {
          "Count": 42,
          "Country": "UKR",
          "Medal": "Silver"
         },
         {
          "Count": 584,
          "Country": "URS",
          "Medal": "Bronze"
         },
         {
          "Count": 838,
          "Country": "URS",
          "Medal": "Gold"
         },
         {
          "Count": 627,
          "Country": "URS",
          "Medal": "Silver"
         },
         {
          "Count": 30,
          "Country": "URU",
          "Medal": "Bronze"
         },
         {
          "Count": 44,
          "Country": "URU",
          "Medal": "Gold"
         },
         {
          "Count": 2,
          "Country": "URU",
          "Medal": "Silver"
         },
         {
          "Count": 1098,
          "Country": "USA",
          "Medal": "Bronze"
         },
         {
          "Count": 2235,
          "Country": "USA",
          "Medal": "Gold"
         },
         {
          "Count": 1252,
          "Country": "USA",
          "Medal": "Silver"
         },
         {
          "Count": 10,
          "Country": "UZB",
          "Medal": "Bronze"
         },
         {
          "Count": 5,
          "Country": "UZB",
          "Medal": "Gold"
         },
         {
          "Count": 5,
          "Country": "UZB",
          "Medal": "Silver"
         },
         {
          "Count": 8,
          "Country": "VEN",
          "Medal": "Bronze"
         },
         {
          "Count": 2,
          "Country": "VEN",
          "Medal": "Gold"
         },
         {
          "Count": 2,
          "Country": "VEN",
          "Medal": "Silver"
         },
         {
          "Count": 2,
          "Country": "VIE",
          "Medal": "Silver"
         },
         {
          "Count": 118,
          "Country": "YUG",
          "Medal": "Bronze"
         },
         {
          "Count": 143,
          "Country": "YUG",
          "Medal": "Gold"
         },
         {
          "Count": 174,
          "Country": "YUG",
          "Medal": "Silver"
         },
         {
          "Count": 1,
          "Country": "ZAM",
          "Medal": "Bronze"
         },
         {
          "Count": 1,
          "Country": "ZAM",
          "Medal": "Silver"
         },
         {
          "Count": 1,
          "Country": "ZIM",
          "Medal": "Bronze"
         },
         {
          "Count": 18,
          "Country": "ZIM",
          "Medal": "Gold"
         },
         {
          "Count": 4,
          "Country": "ZIM",
          "Medal": "Silver"
         },
         {
          "Count": 10,
          "Country": "ZZX",
          "Medal": "Bronze"
         },
         {
          "Count": 23,
          "Country": "ZZX",
          "Medal": "Gold"
         },
         {
          "Count": 15,
          "Country": "ZZX",
          "Medal": "Silver"
         }
        ]
       },
       "encoding": {
        "color": {
         "field": "Medal",
         "type": "nominal"
        },
        "order": {
         "field": "Count",
         "sort": "descending",
         "type": "quantitative"
        },
        "x": {
         "field": "Country",
         "type": "nominal"
        },
        "y": {
         "field": "Count",
         "type": "quantitative"
        }
       },
       "mark": "point"
      },
      "image/png": "[encoded data removed]",
      "text/plain": [
       "<VegaLite 3 object>\n",
       "\n",
       "If you see this message, it means the renderer has not been properly enabled\n",
       "for the frontend that you are using. For more information, see\n",
       "https://altair-viz.github.io/user_guide/troubleshooting.html\n"
      ]
     },
     "execution_count": 4,
     "metadata": {},
     "output_type": "execute_result"
    }
   ],
   "source": [
    "alt.Chart(medals).mark_point().encode(\n",
    "    x = 'Country',\n",
    "    y = 'Count',\n",
    "    color = 'Medal',\n",
    "    order = alt.Order('Count', sort='descending')\n",
    ")"
   ]
  },
  {
   "cell_type": "code",
   "execution_count": 5,
   "metadata": {},
   "outputs": [],
   "source": [
    "df = pd.read_csv('/home/nadav/IdeaProjects/SparkScalaCourse/customer-orders.csv', header=None)"
   ]
  },
  {
   "cell_type": "code",
   "execution_count": 6,
   "metadata": {},
   "outputs": [
    {
     "data": {
      "text/html": [
       "<div>\n",
       "<style scoped>\n",
       "    .dataframe tbody tr th:only-of-type {\n",
       "        vertical-align: middle;\n",
       "    }\n",
       "\n",
       "    .dataframe tbody tr th {\n",
       "        vertical-align: top;\n",
       "    }\n",
       "\n",
       "    .dataframe thead th {\n",
       "        text-align: right;\n",
       "    }\n",
       "</style>\n",
       "<table border=\"1\" class=\"dataframe\">\n",
       "  <thead>\n",
       "    <tr style=\"text-align: right;\">\n",
       "      <th></th>\n",
       "      <th>id</th>\n",
       "      <th>amount</th>\n",
       "    </tr>\n",
       "  </thead>\n",
       "  <tbody>\n",
       "    <tr>\n",
       "      <th>89</th>\n",
       "      <td>89</td>\n",
       "      <td>4851.48</td>\n",
       "    </tr>\n",
       "  </tbody>\n",
       "</table>\n",
       "</div>"
      ],
      "text/plain": [
       "    id   amount\n",
       "89  89  4851.48"
      ]
     },
     "execution_count": 6,
     "metadata": {},
     "output_type": "execute_result"
    }
   ],
   "source": [
    "df.rename(columns=  {0: 'id', 1:'item', 2:'amount'}, inplace = True)\n",
    "df = df.drop('item', 1)\n",
    "df = df.groupby('id').sum()\n",
    "df.reset_index(inplace=True)\n",
    "df.loc[df['id']==89]"
   ]
  },
  {
   "cell_type": "code",
   "execution_count": 7,
   "metadata": {},
   "outputs": [],
   "source": [
    "\n",
    "data = pd.read_csv('/home/nadav/IdeaProjects/SparkScalaCourse/u.data', delimiter='\\t',header=None, names=['user id','movie id','ratings','time'])\n"
   ]
  },
  {
   "cell_type": "code",
   "execution_count": 8,
   "metadata": {},
   "outputs": [
    {
     "data": {
      "text/html": [
       "<div>\n",
       "<style scoped>\n",
       "    .dataframe tbody tr th:only-of-type {\n",
       "        vertical-align: middle;\n",
       "    }\n",
       "\n",
       "    .dataframe tbody tr th {\n",
       "        vertical-align: top;\n",
       "    }\n",
       "\n",
       "    .dataframe thead th {\n",
       "        text-align: right;\n",
       "    }\n",
       "</style>\n",
       "<table border=\"1\" class=\"dataframe\">\n",
       "  <thead>\n",
       "    <tr style=\"text-align: right;\">\n",
       "      <th></th>\n",
       "      <th>user id</th>\n",
       "      <th>movie id</th>\n",
       "      <th>ratings</th>\n",
       "      <th>time</th>\n",
       "    </tr>\n",
       "  </thead>\n",
       "  <tbody>\n",
       "    <tr>\n",
       "      <th>0</th>\n",
       "      <td>196</td>\n",
       "      <td>242</td>\n",
       "      <td>3</td>\n",
       "      <td>881250949</td>\n",
       "    </tr>\n",
       "    <tr>\n",
       "      <th>1</th>\n",
       "      <td>186</td>\n",
       "      <td>302</td>\n",
       "      <td>3</td>\n",
       "      <td>891717742</td>\n",
       "    </tr>\n",
       "    <tr>\n",
       "      <th>2</th>\n",
       "      <td>22</td>\n",
       "      <td>377</td>\n",
       "      <td>1</td>\n",
       "      <td>878887116</td>\n",
       "    </tr>\n",
       "    <tr>\n",
       "      <th>3</th>\n",
       "      <td>244</td>\n",
       "      <td>51</td>\n",
       "      <td>2</td>\n",
       "      <td>880606923</td>\n",
       "    </tr>\n",
       "    <tr>\n",
       "      <th>4</th>\n",
       "      <td>166</td>\n",
       "      <td>346</td>\n",
       "      <td>1</td>\n",
       "      <td>886397596</td>\n",
       "    </tr>\n",
       "  </tbody>\n",
       "</table>\n",
       "</div>"
      ],
      "text/plain": [
       "   user id  movie id  ratings       time\n",
       "0      196       242        3  881250949\n",
       "1      186       302        3  891717742\n",
       "2       22       377        1  878887116\n",
       "3      244        51        2  880606923\n",
       "4      166       346        1  886397596"
      ]
     },
     "execution_count": 8,
     "metadata": {},
     "output_type": "execute_result"
    }
   ],
   "source": [
    "data.head()"
   ]
  },
  {
   "cell_type": "code",
   "execution_count": 12,
   "metadata": {},
   "outputs": [],
   "source": [
    "\n",
    "items = pd.read_csv('/home/nadav/IdeaProjects/SparkScalaCourse/u.item',delimiter='|',header=None,encoding = \"latin-1\").iloc[0:,0:2]"
   ]
  },
  {
   "cell_type": "code",
   "execution_count": 13,
   "metadata": {},
   "outputs": [
    {
     "data": {
      "text/html": [
       "<div>\n",
       "<style scoped>\n",
       "    .dataframe tbody tr th:only-of-type {\n",
       "        vertical-align: middle;\n",
       "    }\n",
       "\n",
       "    .dataframe tbody tr th {\n",
       "        vertical-align: top;\n",
       "    }\n",
       "\n",
       "    .dataframe thead th {\n",
       "        text-align: right;\n",
       "    }\n",
       "</style>\n",
       "<table border=\"1\" class=\"dataframe\">\n",
       "  <thead>\n",
       "    <tr style=\"text-align: right;\">\n",
       "      <th></th>\n",
       "      <th>movie id</th>\n",
       "      <th>movie name</th>\n",
       "    </tr>\n",
       "  </thead>\n",
       "  <tbody>\n",
       "    <tr>\n",
       "      <th>49</th>\n",
       "      <td>50</td>\n",
       "      <td>Star Wars (1977)</td>\n",
       "    </tr>\n",
       "    <tr>\n",
       "      <th>61</th>\n",
       "      <td>62</td>\n",
       "      <td>Stargate (1994)</td>\n",
       "    </tr>\n",
       "    <tr>\n",
       "      <th>123</th>\n",
       "      <td>124</td>\n",
       "      <td>Lone Star (1996)</td>\n",
       "    </tr>\n",
       "    <tr>\n",
       "      <th>145</th>\n",
       "      <td>146</td>\n",
       "      <td>Unhook the Stars (1996)</td>\n",
       "    </tr>\n",
       "    <tr>\n",
       "      <th>221</th>\n",
       "      <td>222</td>\n",
       "      <td>Star Trek: First Contact (1996)</td>\n",
       "    </tr>\n",
       "    <tr>\n",
       "      <th>226</th>\n",
       "      <td>227</td>\n",
       "      <td>Star Trek VI: The Undiscovered Country (1991)</td>\n",
       "    </tr>\n",
       "    <tr>\n",
       "      <th>227</th>\n",
       "      <td>228</td>\n",
       "      <td>Star Trek: The Wrath of Khan (1982)</td>\n",
       "    </tr>\n",
       "    <tr>\n",
       "      <th>228</th>\n",
       "      <td>229</td>\n",
       "      <td>Star Trek III: The Search for Spock (1984)</td>\n",
       "    </tr>\n",
       "    <tr>\n",
       "      <th>229</th>\n",
       "      <td>230</td>\n",
       "      <td>Star Trek IV: The Voyage Home (1986)</td>\n",
       "    </tr>\n",
       "    <tr>\n",
       "      <th>270</th>\n",
       "      <td>271</td>\n",
       "      <td>Starship Troopers (1997)</td>\n",
       "    </tr>\n",
       "    <tr>\n",
       "      <th>379</th>\n",
       "      <td>380</td>\n",
       "      <td>Star Trek: Generations (1994)</td>\n",
       "    </tr>\n",
       "    <tr>\n",
       "      <th>448</th>\n",
       "      <td>449</td>\n",
       "      <td>Star Trek: The Motion Picture (1979)</td>\n",
       "    </tr>\n",
       "    <tr>\n",
       "      <th>449</th>\n",
       "      <td>450</td>\n",
       "      <td>Star Trek V: The Final Frontier (1989)</td>\n",
       "    </tr>\n",
       "    <tr>\n",
       "      <th>1060</th>\n",
       "      <td>1061</td>\n",
       "      <td>Evening Star, The (1996)</td>\n",
       "    </tr>\n",
       "    <tr>\n",
       "      <th>1067</th>\n",
       "      <td>1068</td>\n",
       "      <td>Star Maker, The (Uomo delle stelle, L') (1995)</td>\n",
       "    </tr>\n",
       "    <tr>\n",
       "      <th>1264</th>\n",
       "      <td>1265</td>\n",
       "      <td>Star Maps (1997)</td>\n",
       "    </tr>\n",
       "    <tr>\n",
       "      <th>1292</th>\n",
       "      <td>1293</td>\n",
       "      <td>Star Kid (1997)</td>\n",
       "    </tr>\n",
       "    <tr>\n",
       "      <th>1463</th>\n",
       "      <td>1464</td>\n",
       "      <td>Stars Fell on Henrietta, The (1995)</td>\n",
       "    </tr>\n",
       "    <tr>\n",
       "      <th>1544</th>\n",
       "      <td>1545</td>\n",
       "      <td>Frankie Starlight (1995)</td>\n",
       "    </tr>\n",
       "  </tbody>\n",
       "</table>\n",
       "</div>"
      ],
      "text/plain": [
       "      movie id                                      movie name\n",
       "49          50                                Star Wars (1977)\n",
       "61          62                                 Stargate (1994)\n",
       "123        124                                Lone Star (1996)\n",
       "145        146                         Unhook the Stars (1996)\n",
       "221        222                 Star Trek: First Contact (1996)\n",
       "226        227   Star Trek VI: The Undiscovered Country (1991)\n",
       "227        228             Star Trek: The Wrath of Khan (1982)\n",
       "228        229      Star Trek III: The Search for Spock (1984)\n",
       "229        230            Star Trek IV: The Voyage Home (1986)\n",
       "270        271                        Starship Troopers (1997)\n",
       "379        380                   Star Trek: Generations (1994)\n",
       "448        449            Star Trek: The Motion Picture (1979)\n",
       "449        450          Star Trek V: The Final Frontier (1989)\n",
       "1060      1061                        Evening Star, The (1996)\n",
       "1067      1068  Star Maker, The (Uomo delle stelle, L') (1995)\n",
       "1264      1265                                Star Maps (1997)\n",
       "1292      1293                                 Star Kid (1997)\n",
       "1463      1464             Stars Fell on Henrietta, The (1995)\n",
       "1544      1545                        Frankie Starlight (1995)"
      ]
     },
     "execution_count": 13,
     "metadata": {},
     "output_type": "execute_result"
    }
   ],
   "source": [
    "items\n",
    "items.rename(columns = {0:'movie id', 1:'movie name'}, inplace= True)\n",
    "items[items['movie name'].str.contains('Star')]\n",
    "    "
   ]
  },
  {
   "cell_type": "code",
   "execution_count": 49,
   "metadata": {},
   "outputs": [],
   "source": [
    "df = data.merge(items, on='movie id')\n",
    "df = df.groupby('movie name')['movie name']"
   ]
  },
  {
   "cell_type": "code",
   "execution_count": 55,
   "metadata": {},
   "outputs": [],
   "source": [
    "df = df.count().sort_values(ascending = False)\n"
   ]
  },
  {
   "cell_type": "code",
   "execution_count": 58,
   "metadata": {},
   "outputs": [
    {
     "ename": "ValueError",
     "evalue": "cannot insert movie name, already exists",
     "output_type": "error",
     "traceback": [
      "\u001b[0;31m---------------------------------------------------------------------------\u001b[0m",
      "\u001b[0;31mValueError\u001b[0m                                Traceback (most recent call last)",
      "\u001b[0;32m<ipython-input-58-20da24c655af>\u001b[0m in \u001b[0;36m<module>\u001b[0;34m\u001b[0m\n\u001b[0;32m----> 1\u001b[0;31m \u001b[0mdf\u001b[0m\u001b[0;34m.\u001b[0m\u001b[0mreset_index\u001b[0m\u001b[0;34m(\u001b[0m\u001b[0;34m)\u001b[0m\u001b[0;34m\u001b[0m\u001b[0;34m\u001b[0m\u001b[0m\n\u001b[0m",
      "\u001b[0;32m~/anaconda3/lib/python3.7/site-packages/pandas/core/series.py\u001b[0m in \u001b[0;36mreset_index\u001b[0;34m(self, level, drop, name, inplace)\u001b[0m\n\u001b[1;32m   1362\u001b[0m         \u001b[0;32melse\u001b[0m\u001b[0;34m:\u001b[0m\u001b[0;34m\u001b[0m\u001b[0;34m\u001b[0m\u001b[0m\n\u001b[1;32m   1363\u001b[0m             \u001b[0mdf\u001b[0m \u001b[0;34m=\u001b[0m \u001b[0mself\u001b[0m\u001b[0;34m.\u001b[0m\u001b[0mto_frame\u001b[0m\u001b[0;34m(\u001b[0m\u001b[0mname\u001b[0m\u001b[0;34m)\u001b[0m\u001b[0;34m\u001b[0m\u001b[0;34m\u001b[0m\u001b[0m\n\u001b[0;32m-> 1364\u001b[0;31m             \u001b[0;32mreturn\u001b[0m \u001b[0mdf\u001b[0m\u001b[0;34m.\u001b[0m\u001b[0mreset_index\u001b[0m\u001b[0;34m(\u001b[0m\u001b[0mlevel\u001b[0m\u001b[0;34m=\u001b[0m\u001b[0mlevel\u001b[0m\u001b[0;34m,\u001b[0m \u001b[0mdrop\u001b[0m\u001b[0;34m=\u001b[0m\u001b[0mdrop\u001b[0m\u001b[0;34m)\u001b[0m\u001b[0;34m\u001b[0m\u001b[0;34m\u001b[0m\u001b[0m\n\u001b[0m\u001b[1;32m   1365\u001b[0m \u001b[0;34m\u001b[0m\u001b[0m\n\u001b[1;32m   1366\u001b[0m     \u001b[0;31m# ----------------------------------------------------------------------\u001b[0m\u001b[0;34m\u001b[0m\u001b[0;34m\u001b[0m\u001b[0;34m\u001b[0m\u001b[0m\n",
      "\u001b[0;32m~/anaconda3/lib/python3.7/site-packages/pandas/core/frame.py\u001b[0m in \u001b[0;36mreset_index\u001b[0;34m(self, level, drop, inplace, col_level, col_fill)\u001b[0m\n\u001b[1;32m   4429\u001b[0m                 \u001b[0;31m# to ndarray and maybe infer different dtype\u001b[0m\u001b[0;34m\u001b[0m\u001b[0;34m\u001b[0m\u001b[0;34m\u001b[0m\u001b[0m\n\u001b[1;32m   4430\u001b[0m                 \u001b[0mlevel_values\u001b[0m \u001b[0;34m=\u001b[0m \u001b[0m_maybe_casted_values\u001b[0m\u001b[0;34m(\u001b[0m\u001b[0mlev\u001b[0m\u001b[0;34m,\u001b[0m \u001b[0mlab\u001b[0m\u001b[0;34m)\u001b[0m\u001b[0;34m\u001b[0m\u001b[0;34m\u001b[0m\u001b[0m\n\u001b[0;32m-> 4431\u001b[0;31m                 \u001b[0mnew_obj\u001b[0m\u001b[0;34m.\u001b[0m\u001b[0minsert\u001b[0m\u001b[0;34m(\u001b[0m\u001b[0;36m0\u001b[0m\u001b[0;34m,\u001b[0m \u001b[0mname\u001b[0m\u001b[0;34m,\u001b[0m \u001b[0mlevel_values\u001b[0m\u001b[0;34m)\u001b[0m\u001b[0;34m\u001b[0m\u001b[0;34m\u001b[0m\u001b[0m\n\u001b[0m\u001b[1;32m   4432\u001b[0m \u001b[0;34m\u001b[0m\u001b[0m\n\u001b[1;32m   4433\u001b[0m         \u001b[0mnew_obj\u001b[0m\u001b[0;34m.\u001b[0m\u001b[0mindex\u001b[0m \u001b[0;34m=\u001b[0m \u001b[0mnew_index\u001b[0m\u001b[0;34m\u001b[0m\u001b[0;34m\u001b[0m\u001b[0m\n",
      "\u001b[0;32m~/anaconda3/lib/python3.7/site-packages/pandas/core/frame.py\u001b[0m in \u001b[0;36minsert\u001b[0;34m(self, loc, column, value, allow_duplicates)\u001b[0m\n\u001b[1;32m   3471\u001b[0m         \u001b[0mvalue\u001b[0m \u001b[0;34m=\u001b[0m \u001b[0mself\u001b[0m\u001b[0;34m.\u001b[0m\u001b[0m_sanitize_column\u001b[0m\u001b[0;34m(\u001b[0m\u001b[0mcolumn\u001b[0m\u001b[0;34m,\u001b[0m \u001b[0mvalue\u001b[0m\u001b[0;34m,\u001b[0m \u001b[0mbroadcast\u001b[0m\u001b[0;34m=\u001b[0m\u001b[0;32mFalse\u001b[0m\u001b[0;34m)\u001b[0m\u001b[0;34m\u001b[0m\u001b[0;34m\u001b[0m\u001b[0m\n\u001b[1;32m   3472\u001b[0m         self._data.insert(loc, column, value,\n\u001b[0;32m-> 3473\u001b[0;31m                           allow_duplicates=allow_duplicates)\n\u001b[0m\u001b[1;32m   3474\u001b[0m \u001b[0;34m\u001b[0m\u001b[0m\n\u001b[1;32m   3475\u001b[0m     \u001b[0;32mdef\u001b[0m \u001b[0massign\u001b[0m\u001b[0;34m(\u001b[0m\u001b[0mself\u001b[0m\u001b[0;34m,\u001b[0m \u001b[0;34m**\u001b[0m\u001b[0mkwargs\u001b[0m\u001b[0;34m)\u001b[0m\u001b[0;34m:\u001b[0m\u001b[0;34m\u001b[0m\u001b[0;34m\u001b[0m\u001b[0m\n",
      "\u001b[0;32m~/anaconda3/lib/python3.7/site-packages/pandas/core/internals/managers.py\u001b[0m in \u001b[0;36minsert\u001b[0;34m(self, loc, item, value, allow_duplicates)\u001b[0m\n\u001b[1;32m   1147\u001b[0m         \u001b[0;32mif\u001b[0m \u001b[0;32mnot\u001b[0m \u001b[0mallow_duplicates\u001b[0m \u001b[0;32mand\u001b[0m \u001b[0mitem\u001b[0m \u001b[0;32min\u001b[0m \u001b[0mself\u001b[0m\u001b[0;34m.\u001b[0m\u001b[0mitems\u001b[0m\u001b[0;34m:\u001b[0m\u001b[0;34m\u001b[0m\u001b[0;34m\u001b[0m\u001b[0m\n\u001b[1;32m   1148\u001b[0m             \u001b[0;31m# Should this be a different kind of error??\u001b[0m\u001b[0;34m\u001b[0m\u001b[0;34m\u001b[0m\u001b[0;34m\u001b[0m\u001b[0m\n\u001b[0;32m-> 1149\u001b[0;31m             \u001b[0;32mraise\u001b[0m \u001b[0mValueError\u001b[0m\u001b[0;34m(\u001b[0m\u001b[0;34m'cannot insert {}, already exists'\u001b[0m\u001b[0;34m.\u001b[0m\u001b[0mformat\u001b[0m\u001b[0;34m(\u001b[0m\u001b[0mitem\u001b[0m\u001b[0;34m)\u001b[0m\u001b[0;34m)\u001b[0m\u001b[0;34m\u001b[0m\u001b[0;34m\u001b[0m\u001b[0m\n\u001b[0m\u001b[1;32m   1150\u001b[0m \u001b[0;34m\u001b[0m\u001b[0m\n\u001b[1;32m   1151\u001b[0m         \u001b[0;32mif\u001b[0m \u001b[0;32mnot\u001b[0m \u001b[0misinstance\u001b[0m\u001b[0;34m(\u001b[0m\u001b[0mloc\u001b[0m\u001b[0;34m,\u001b[0m \u001b[0mint\u001b[0m\u001b[0;34m)\u001b[0m\u001b[0;34m:\u001b[0m\u001b[0;34m\u001b[0m\u001b[0;34m\u001b[0m\u001b[0m\n",
      "\u001b[0;31mValueError\u001b[0m: cannot insert movie name, already exists"
     ]
    }
   ],
   "source": [
    "df.reset_index()"
   ]
  },
  {
   "cell_type": "code",
   "execution_count": null,
   "metadata": {},
   "outputs": [],
   "source": []
  }
 ],
 "metadata": {
  "kernelspec": {
   "display_name": "Python 3",
   "language": "python",
   "name": "python3"
  },
  "language_info": {
   "codemirror_mode": {
    "name": "ipython",
    "version": 3
   },
   "file_extension": ".py",
   "mimetype": "text/x-python",
   "name": "python",
   "nbconvert_exporter": "python",
   "pygments_lexer": "ipython3",
   "version": "3.7.3"
  }
 },
 "nbformat": 4,
 "nbformat_minor": 4
}
